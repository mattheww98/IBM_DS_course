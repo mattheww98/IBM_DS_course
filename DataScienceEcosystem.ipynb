{
 "cells": [
  {
   "cell_type": "markdown",
   "id": "22d0cda8-4c89-42cd-96e6-480d90dcb2b5",
   "metadata": {},
   "source": [
    "# Data Science Tools and Ecosystem"
   ]
  },
  {
   "cell_type": "markdown",
   "id": "93b00e45-a8ba-4bc7-9bc1-e6f7279ad019",
   "metadata": {},
   "source": [
    "In this notebook, Data Science Tools and Ecosystem are summarized."
   ]
  },
  {
   "cell_type": "markdown",
   "id": "fe5f2eca-c1ae-4a34-96e4-b80fce348ed8",
   "metadata": {},
   "source": [
    "Some of the popular languages that Data Scientists use are:\n",
    "1. Python\n",
    "2. R\n",
    "3. SQL\n",
    "4. Scala"
   ]
  },
  {
   "cell_type": "markdown",
   "id": "85e78466-c281-4c26-b5c5-c6d6c5339b2d",
   "metadata": {},
   "source": [
    "Some of the commonly used libraries used by Data Scientists include:\n",
    "1. NumPy\n",
    "2. Pandas\n",
    "3. SciPy\n"
   ]
  },
  {
   "cell_type": "markdown",
   "id": "a1f6daa0-22f2-4335-8c8f-6fac2c0d6e34",
   "metadata": {},
   "source": [
    "| Data Science Tools |\n",
    "| ------------------ |\n",
    "| PostgreSQL |\n",
    "| GitHub |\n",
    "| Apache SparkSQL |"
   ]
  },
  {
   "cell_type": "markdown",
   "id": "da449b2d-8188-4aee-93cb-ddf76eb444bd",
   "metadata": {},
   "source": [
    "Below are a few examples of evaluating arithmetic expressions in Python"
   ]
  },
  {
   "cell_type": "code",
   "execution_count": 2,
   "id": "743c5749-72b8-488b-ab89-4ae884b3bed3",
   "metadata": {},
   "outputs": [
    {
     "data": {
      "text/plain": [
       "17"
      ]
     },
     "execution_count": 2,
     "metadata": {},
     "output_type": "execute_result"
    }
   ],
   "source": [
    "# This is a simple arithmetic expression to multiply then add integers\n",
    "(3*4)+5"
   ]
  },
  {
   "cell_type": "code",
   "execution_count": 4,
   "id": "274f0e63-7bc5-4ceb-9f88-e5b7f7b9ebc8",
   "metadata": {},
   "outputs": [
    {
     "name": "stdout",
     "output_type": "stream",
     "text": [
      "200 minutes is 3.3333333333333335 hours\n"
     ]
    }
   ],
   "source": [
    "# This will convert 200 minutes to hours by dividing by 60\n",
    "print(f\"200 minutes is {200/60} hours\")"
   ]
  },
  {
   "cell_type": "markdown",
   "id": "75fbc8eb-1af0-4d48-8bab-9270abd141b7",
   "metadata": {},
   "source": [
    "Objectives:\n",
    "- List popular languages for Data Science\n",
    "- List popular libraries for Data Science\n",
    "- Perform basic arithmetic expressions using Python"
   ]
  },
  {
   "cell_type": "markdown",
   "id": "a852189f-a6f8-41bf-a525-b50bcc405b6e",
   "metadata": {},
   "source": [
    "## Author\n",
    "Matthew Walker"
   ]
  },
  {
   "cell_type": "code",
   "execution_count": null,
   "id": "8ff92d52-07ce-4ceb-8da4-5ce494ffd00e",
   "metadata": {},
   "outputs": [],
   "source": []
  }
 ],
 "metadata": {
  "kernelspec": {
   "display_name": "Python 3 (ipykernel)",
   "language": "python",
   "name": "python3"
  },
  "language_info": {
   "codemirror_mode": {
    "name": "ipython",
    "version": 3
   },
   "file_extension": ".py",
   "mimetype": "text/x-python",
   "name": "python",
   "nbconvert_exporter": "python",
   "pygments_lexer": "ipython3",
   "version": "3.10.13"
  }
 },
 "nbformat": 4,
 "nbformat_minor": 5
}
